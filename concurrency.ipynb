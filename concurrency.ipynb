{
 "cells": [
  {
   "cell_type": "code",
   "execution_count": null,
   "id": "8c017026-b0b6-4f95-bfbf-335a5241170e",
   "metadata": {},
   "outputs": [],
   "source": [
    "#Brendan Bradfield\n",
    "#SDEV220\n",
    "#Concurrency in python\n",
    "#ch13 and ch15"
   ]
  },
  {
   "cell_type": "code",
   "execution_count": null,
   "id": "12248817-a769-43be-8b0f-032198b0299c",
   "metadata": {
    "scrolled": true
   },
   "outputs": [],
   "source": [
    "#13.1\n",
    "current_date = datetime.now().strftime(\"%Y-%m-%d\")\n",
    "with open(\"today.txt\", \"w\") as file:\n",
    "    file.write(current_date)"
   ]
  },
  {
   "cell_type": "code",
   "execution_count": null,
   "id": "2da8b74a-6b72-42d6-9663-deea75a1bac4",
   "metadata": {},
   "outputs": [],
   "source": [
    "# 13.2\n",
    "with open(\"today.txt\", \"r\") as file:\n",
    "    today_string = file.read()"
   ]
  },
  {
   "cell_type": "code",
   "execution_count": null,
   "id": "ab32eabf-bb1b-4289-b093-68ac6d449810",
   "metadata": {},
   "outputs": [],
   "source": [
    "#13.3\n",
    "parsed_date = datetime.strptime(today_string, \"%Y-%m-%d\")\n",
    "\n",
    "print(\"Current Date String:\", current_date)\n",
    "print(\"Today String:\", today_string)\n",
    "print(\"Parsed Date:\", parsed_date)"
   ]
  },
  {
   "cell_type": "code",
   "execution_count": null,
   "id": "6d5de6c0-d8e3-43e4-a8c7-2a4b7b0b0ce6",
   "metadata": {},
   "outputs": [],
   "source": [
    "#Ch15"
   ]
  },
  {
   "cell_type": "code",
   "execution_count": null,
   "id": "9be2d1e6-ae5b-4db0-a861-4fe73a3e2c72",
   "metadata": {},
   "outputs": [],
   "source": [
    "#ch15.1\n",
    "import multiprocessing\n",
    "import time\n",
    "import random\n",
    "from datetime import datetime\n",
    "\n",
    "def worker():\n",
    "    wait_time = random.uniform(0, 1)\n",
    "    time.sleep(wait_time)\n",
    "    print(f\"Process {multiprocessing.current_process().name} - Time: {datetime.now()}\")\n",
    "\n",
    "if __name__ == \"__main__\":\n",
    "    processes = []\n",
    "    for i in range(3):\n",
    "        process = multiprocessing.Process(target=worker, name=f\"Worker-{i+1}\")\n",
    "        processes.append(process)\n",
    "        process.start()\n",
    "    \n",
    "    for process in processes:\n",
    "        process.join()\n",
    "\n",
    "    print(\"All processes have completed.\")\n"
   ]
  }
 ],
 "metadata": {
  "kernelspec": {
   "display_name": "Python 3 (ipykernel)",
   "language": "python",
   "name": "python3"
  },
  "language_info": {
   "codemirror_mode": {
    "name": "ipython",
    "version": 3
   },
   "file_extension": ".py",
   "mimetype": "text/x-python",
   "name": "python",
   "nbconvert_exporter": "python",
   "pygments_lexer": "ipython3",
   "version": "3.11.7"
  }
 },
 "nbformat": 4,
 "nbformat_minor": 5
}
